{
 "cells": [
  {
   "cell_type": "code",
   "execution_count": 1,
   "id": "3a599c97",
   "metadata": {},
   "outputs": [],
   "source": [
    "import pandas as pd\n",
    "import matplotlib.pyplot as plt\n",
    "import seaborn as sns\n",
    "import json"
   ]
  },
  {
   "cell_type": "code",
   "execution_count": 2,
   "id": "5cbff9dc",
   "metadata": {},
   "outputs": [],
   "source": [
    "data_path = \"Training Project Data v0.1/\""
   ]
  },
  {
   "cell_type": "markdown",
   "id": "6e553724",
   "metadata": {},
   "source": [
    "# Task 1. Figure out all possible event types."
   ]
  },
  {
   "cell_type": "code",
   "execution_count": 3,
   "id": "3a9ee8af",
   "metadata": {},
   "outputs": [],
   "source": [
    "events_records = []\n",
    "\n",
    "with open(data_path + \"events.jsonl\", 'r') as f:\n",
    "    for line in f:\n",
    "        record = json.loads(line)\n",
    "        if \"events\" in record:\n",
    "            for event in record[\"events\"]:\n",
    "                if \"tags\" in event:\n",
    "                    event[\"tags\"] = \",\".join(event[\"tags\"])\n",
    "                events_records.append(event)\n",
    "        else:\n",
    "            if \"tags\" in record:\n",
    "                record[\"tags\"] = \",\".join(record[\"tags\"])\n",
    "            events_records.append(record)\n",
    "\n",
    "events_df = pd.DataFrame.from_records(events_records)\n"
   ]
  },
  {
   "cell_type": "code",
   "execution_count": 4,
   "id": "6d484b06",
   "metadata": {},
   "outputs": [],
   "source": [
    "events_df = events_df.drop_duplicates()"
   ]
  },
  {
   "cell_type": "code",
   "execution_count": 5,
   "id": "61f74750",
   "metadata": {},
   "outputs": [
    {
     "data": {
      "text/html": [
       "<div>\n",
       "<style scoped>\n",
       "    .dataframe tbody tr th:only-of-type {\n",
       "        vertical-align: middle;\n",
       "    }\n",
       "\n",
       "    .dataframe tbody tr th {\n",
       "        vertical-align: top;\n",
       "    }\n",
       "\n",
       "    .dataframe thead th {\n",
       "        text-align: right;\n",
       "    }\n",
       "</style>\n",
       "<table border=\"1\" class=\"dataframe\">\n",
       "  <thead>\n",
       "    <tr style=\"text-align: right;\">\n",
       "      <th></th>\n",
       "      <th>user_id</th>\n",
       "      <th>video_id</th>\n",
       "      <th>event</th>\n",
       "      <th>timestamp</th>\n",
       "      <th>tags</th>\n",
       "      <th>comment</th>\n",
       "    </tr>\n",
       "  </thead>\n",
       "  <tbody>\n",
       "    <tr>\n",
       "      <th>0</th>\n",
       "      <td>1</td>\n",
       "      <td>100</td>\n",
       "      <td>created</td>\n",
       "      <td>1642663347</td>\n",
       "      <td>cute,duck,animals</td>\n",
       "      <td>NaN</td>\n",
       "    </tr>\n",
       "    <tr>\n",
       "      <th>1</th>\n",
       "      <td>4</td>\n",
       "      <td>100</td>\n",
       "      <td>like</td>\n",
       "      <td>1642943347</td>\n",
       "      <td>NaN</td>\n",
       "      <td>NaN</td>\n",
       "    </tr>\n",
       "    <tr>\n",
       "      <th>2</th>\n",
       "      <td>2</td>\n",
       "      <td>100</td>\n",
       "      <td>like</td>\n",
       "      <td>1642953347</td>\n",
       "      <td>NaN</td>\n",
       "      <td>NaN</td>\n",
       "    </tr>\n",
       "    <tr>\n",
       "      <th>3</th>\n",
       "      <td>2</td>\n",
       "      <td>100</td>\n",
       "      <td>commented</td>\n",
       "      <td>1642954347</td>\n",
       "      <td>NaN</td>\n",
       "      <td>oh, it's so cute!!!!</td>\n",
       "    </tr>\n",
       "    <tr>\n",
       "      <th>4</th>\n",
       "      <td>3</td>\n",
       "      <td>100</td>\n",
       "      <td>commented</td>\n",
       "      <td>1642964347</td>\n",
       "      <td>NaN</td>\n",
       "      <td>I will buy my own</td>\n",
       "    </tr>\n",
       "  </tbody>\n",
       "</table>\n",
       "</div>"
      ],
      "text/plain": [
       "   user_id  video_id      event   timestamp               tags  \\\n",
       "0        1       100    created  1642663347  cute,duck,animals   \n",
       "1        4       100       like  1642943347                NaN   \n",
       "2        2       100       like  1642953347                NaN   \n",
       "3        2       100  commented  1642954347                NaN   \n",
       "4        3       100  commented  1642964347                NaN   \n",
       "\n",
       "                comment  \n",
       "0                   NaN  \n",
       "1                   NaN  \n",
       "2                   NaN  \n",
       "3  oh, it's so cute!!!!  \n",
       "4     I will buy my own  "
      ]
     },
     "execution_count": 5,
     "metadata": {},
     "output_type": "execute_result"
    }
   ],
   "source": [
    "events_df.head()"
   ]
  },
  {
   "cell_type": "code",
   "execution_count": 6,
   "id": "3a21f63e",
   "metadata": {},
   "outputs": [
    {
     "data": {
      "text/plain": [
       "array(['created', 'like', 'commented', 'add_tags', 'remove_tags'],\n",
       "      dtype=object)"
      ]
     },
     "execution_count": 6,
     "metadata": {},
     "output_type": "execute_result"
    }
   ],
   "source": [
    "#All possible event types\n",
    "events_df.event.unique()"
   ]
  },
  {
   "cell_type": "markdown",
   "id": "eeeb7c5e",
   "metadata": {},
   "source": [
    "# Task 2. Visualize videos like rate (likes count to time dashboard)."
   ]
  },
  {
   "cell_type": "code",
   "execution_count": 7,
   "id": "986c16f7",
   "metadata": {},
   "outputs": [],
   "source": [
    "likes_event_df = events_df[events_df[\"event\"] == \"like\"]"
   ]
  },
  {
   "cell_type": "code",
   "execution_count": 8,
   "id": "bf31d826",
   "metadata": {},
   "outputs": [
    {
     "data": {
      "text/html": [
       "<div>\n",
       "<style scoped>\n",
       "    .dataframe tbody tr th:only-of-type {\n",
       "        vertical-align: middle;\n",
       "    }\n",
       "\n",
       "    .dataframe tbody tr th {\n",
       "        vertical-align: top;\n",
       "    }\n",
       "\n",
       "    .dataframe thead th {\n",
       "        text-align: right;\n",
       "    }\n",
       "</style>\n",
       "<table border=\"1\" class=\"dataframe\">\n",
       "  <thead>\n",
       "    <tr style=\"text-align: right;\">\n",
       "      <th></th>\n",
       "      <th>user_id</th>\n",
       "      <th>video_id</th>\n",
       "      <th>event</th>\n",
       "      <th>timestamp</th>\n",
       "      <th>tags</th>\n",
       "      <th>comment</th>\n",
       "    </tr>\n",
       "  </thead>\n",
       "  <tbody>\n",
       "    <tr>\n",
       "      <th>1</th>\n",
       "      <td>4</td>\n",
       "      <td>100</td>\n",
       "      <td>like</td>\n",
       "      <td>1642943347</td>\n",
       "      <td>NaN</td>\n",
       "      <td>NaN</td>\n",
       "    </tr>\n",
       "    <tr>\n",
       "      <th>2</th>\n",
       "      <td>2</td>\n",
       "      <td>100</td>\n",
       "      <td>like</td>\n",
       "      <td>1642953347</td>\n",
       "      <td>NaN</td>\n",
       "      <td>NaN</td>\n",
       "    </tr>\n",
       "    <tr>\n",
       "      <th>6</th>\n",
       "      <td>5</td>\n",
       "      <td>100</td>\n",
       "      <td>like</td>\n",
       "      <td>1642994347</td>\n",
       "      <td>NaN</td>\n",
       "      <td>NaN</td>\n",
       "    </tr>\n",
       "    <tr>\n",
       "      <th>7</th>\n",
       "      <td>6</td>\n",
       "      <td>100</td>\n",
       "      <td>like</td>\n",
       "      <td>1642998347</td>\n",
       "      <td>NaN</td>\n",
       "      <td>NaN</td>\n",
       "    </tr>\n",
       "    <tr>\n",
       "      <th>11</th>\n",
       "      <td>0</td>\n",
       "      <td>101</td>\n",
       "      <td>like</td>\n",
       "      <td>1642690000</td>\n",
       "      <td>NaN</td>\n",
       "      <td>NaN</td>\n",
       "    </tr>\n",
       "  </tbody>\n",
       "</table>\n",
       "</div>"
      ],
      "text/plain": [
       "    user_id  video_id event   timestamp tags comment\n",
       "1         4       100  like  1642943347  NaN     NaN\n",
       "2         2       100  like  1642953347  NaN     NaN\n",
       "6         5       100  like  1642994347  NaN     NaN\n",
       "7         6       100  like  1642998347  NaN     NaN\n",
       "11        0       101  like  1642690000  NaN     NaN"
      ]
     },
     "execution_count": 8,
     "metadata": {},
     "output_type": "execute_result"
    }
   ],
   "source": [
    "likes_event_df.head()"
   ]
  },
  {
   "cell_type": "code",
   "execution_count": 9,
   "id": "d9387a29",
   "metadata": {},
   "outputs": [
    {
     "data": {
      "text/plain": [
       "<AxesSubplot:xlabel='timestamp', ylabel='count'>"
      ]
     },
     "execution_count": 9,
     "metadata": {},
     "output_type": "execute_result"
    },
    {
     "data": {
      "image/png": "[encoded data removed]",
      "text/plain": [
       "<Figure size 640x480 with 1 Axes>"
      ]
     },
     "metadata": {},
     "output_type": "display_data"
    }
   ],
   "source": [
    "sns.set(font_scale=0.7)\n",
    "sns.countplot(x=likes_event_df[\"timestamp\"] // 1000)"
   ]
  },
  {
   "cell_type": "markdown",
   "id": "d671f0aa",
   "metadata": {},
   "source": [
    "# Task 3. "
   ]
  },
  {
   "cell_type": "markdown",
   "id": "d2c86ea0",
   "metadata": {},
   "source": [
    "Figure out how often each person views videos with at least one tag that is the same as one from user categories"
   ]
  },
  {
   "cell_type": "code",
   "execution_count": 10,
   "id": "df242328",
   "metadata": {},
   "outputs": [],
   "source": [
    "created_events_df = events_df[events_df[\"event\"] == \"created\"]\n",
    "video_tag = dict(zip(created_events_df.video_id, created_events_df.tags))"
   ]
  },
  {
   "cell_type": "code",
   "execution_count": 47,
   "id": "4f7a6133",
   "metadata": {},
   "outputs": [
    {
     "data": {
      "text/plain": [
       "{100: 'cute,duck,animals', 101: 'travel,bicycle,mountains'}"
      ]
     },
     "execution_count": 47,
     "metadata": {},
     "output_type": "execute_result"
    }
   ],
   "source": [
    "video_tag"
   ]
  },
  {
   "cell_type": "markdown",
   "id": "450093b6",
   "metadata": {},
   "source": [
    "Using all events of type \"created\" we can create dictionary where key is video id and value is tag which corresponds to this video."
   ]
  },
  {
   "cell_type": "code",
   "execution_count": 11,
   "id": "ee0d0ec7",
   "metadata": {},
   "outputs": [],
   "source": [
    "user_video = dict(zip(likes_event_df.user_id, likes_event_df.video_id))"
   ]
  },
  {
   "cell_type": "code",
   "execution_count": 46,
   "id": "03639950",
   "metadata": {},
   "outputs": [
    {
     "data": {
      "text/plain": [
       "{4: 110, 2: 100, 5: 101, 6: 101, 0: 101, 7: 101, 1: 101}"
      ]
     },
     "execution_count": 46,
     "metadata": {},
     "output_type": "execute_result"
    }
   ],
   "source": [
    "user_video"
   ]
  },
  {
   "cell_type": "markdown",
   "id": "1bff3b34",
   "metadata": {},
   "source": [
    "Based on what users liked we can create dictionary where key is user id and value is id of video they watched."
   ]
  },
  {
   "cell_type": "code",
   "execution_count": 44,
   "id": "b5944988",
   "metadata": {},
   "outputs": [],
   "source": [
    "users_df = pd.read_csv(data_path + \"users.csv\")\n",
    "users_df_11 = pd.read_csv(data_path + \"users-011.csv\")\n",
    "users_df = pd.concat([users_df, users_df_11])\n",
    "users_df.drop_duplicates()\n",
    "user_categories = dict(zip(users_df.id, users_df.categories))"
   ]
  },
  {
   "cell_type": "code",
   "execution_count": 45,
   "id": "8282ccc2",
   "metadata": {},
   "outputs": [
    {
     "data": {
      "text/plain": [
       "{0: 'animals;duck;cute;travel',\n",
       " 1: 'animals;duck;bicycle',\n",
       " 2: 'duck;cute;animals',\n",
       " 3: 'animals;cute;travel;bicycle;mountains',\n",
       " 4: 'animals;duck',\n",
       " 5: 'food;cute',\n",
       " 6: 'animals;food;travel;mountains',\n",
       " 7: 'animals;food;travel;bicycle',\n",
       " 8: 'animals;food;travel;bicycle',\n",
       " 9: nan,\n",
       " 10: nan,\n",
       " 11: nan,\n",
       " 12: 'animals;duck;travel'}"
      ]
     },
     "execution_count": 45,
     "metadata": {},
     "output_type": "execute_result"
    }
   ],
   "source": [
    "user_categories"
   ]
  },
  {
   "cell_type": "code",
   "execution_count": 18,
   "id": "f16b0d7d",
   "metadata": {},
   "outputs": [],
   "source": [
    "result = dict()\n",
    "for user, video in user_video.items():\n",
    "    user_tag_category[user] = [0, 0]"
   ]
  },
  {
   "cell_type": "code",
   "execution_count": 57,
   "id": "e8e67888",
   "metadata": {},
   "outputs": [],
   "source": [
    "for user, video in user_video.items():\n",
    "    is_tag = 0\n",
    "    if user not in user_categories or video not in video_tag:\n",
    "        continue\n",
    "    for tag in user_categories[user].split(\";\"):\n",
    "        is_tag = tag in video_tag[video]\n",
    "    if is_tag == 1:\n",
    "        user_tag_category[user][0] += 1\n",
    "    elif is_tag == 0:\n",
    "        user_tag_category[user][1] += 1\n",
    "        "
   ]
  },
  {
   "cell_type": "code",
   "execution_count": 58,
   "id": "26f1185d",
   "metadata": {},
   "outputs": [
    {
     "data": {
      "text/plain": [
       "{4: [0, 2], 2: [4, 0], 5: [2, 4], 6: [4, 0], 0: [4, 0], 7: [4, 0], 1: [4, 0]}"
      ]
     },
     "execution_count": 58,
     "metadata": {},
     "output_type": "execute_result"
    }
   ],
   "source": [
    "user_tag_category"
   ]
  },
  {
   "cell_type": "code",
   "execution_count": 75,
   "id": "2080204e",
   "metadata": {},
   "outputs": [
    {
     "name": "stderr",
     "output_type": "stream",
     "text": [
      "No artists with labels found to put in legend.  Note that artists whose label start with an underscore are ignored when legend() is called with no argument.\n"
     ]
    },
    {
     "data": {
      "image/png": "[encoded data removed]",
      "text/plain": [
       "<Figure size 640x480 with 1 Axes>"
      ]
     },
     "metadata": {},
     "output_type": "display_data"
    }
   ],
   "source": [
    "y1, y2 = list(zip(*user_tag_category.values()))\n",
    "plt.bar(user_tag_category.keys(), y1, width=0.2)\n",
    "plt.bar([el + 0.2 for el in user_tag_category.keys()], y2, width=0.2)\n",
    "plt.xlabel(\"User id\")\n",
    "plt.ylabel(\"Count\")\n",
    "plt.title(\"Person views videos with at least one tag\")\n",
    "plt.legend()\n",
    "plt.show()"
   ]
  },
  {
   "cell_type": "markdown",
   "id": "4c93a96d",
   "metadata": {},
   "source": [
    "Blue - there is at least one similar tag and category"
   ]
  },
  {
   "cell_type": "markdown",
   "id": "4a113ec6",
   "metadata": {},
   "source": [
    "Orange - there isn't"
   ]
  },
  {
   "cell_type": "code",
   "execution_count": null,
   "id": "f041c761",
   "metadata": {},
   "outputs": [],
   "source": []
  }
 ],
 "metadata": {
  "kernelspec": {
   "display_name": "Python 3 (ipykernel)",
   "language": "python",
   "name": "python3"
  },
  "language_info": {
   "codemirror_mode": {
    "name": "ipython",
    "version": 3
   },
   "file_extension": ".py",
   "mimetype": "text/x-python",
   "name": "python",
   "nbconvert_exporter": "python",
   "pygments_lexer": "ipython3",
   "version": "3.7.9"
  }
 },
 "nbformat": 4,
 "nbformat_minor": 5
}
